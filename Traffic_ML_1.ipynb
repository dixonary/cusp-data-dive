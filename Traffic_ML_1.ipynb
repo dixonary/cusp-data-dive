{
 "cells": [
  {
   "cell_type": "markdown",
   "metadata": {},
   "source": [
    "### Nick's workings for traffic accidents machine learning"
   ]
  },
  {
   "cell_type": "code",
   "execution_count": 300,
   "metadata": {},
   "outputs": [
    {
     "name": "stdout",
     "output_type": "stream",
     "text": [
      "Populating the interactive namespace from numpy and matplotlib\n"
     ]
    },
    {
     "name": "stderr",
     "output_type": "stream",
     "text": [
      "/Users/nkwjones/anaconda3/lib/python3.6/site-packages/IPython/core/magics/pylab.py:160: UserWarning: pylab import has clobbered these variables: ['plt']\n",
      "`%matplotlib` prevents importing * from pylab and numpy\n",
      "  \"\\n`%matplotlib` prevents importing * from pylab and numpy\"\n"
     ]
    }
   ],
   "source": [
    "import numpy as np\n",
    "import pandas as pd\n",
    "from sklearn.model_selection import train_test_split\n",
    "from sklearn.linear_model import LinearRegression\n",
    "from sklearn.linear_model import Ridge\n",
    "from sklearn.tree import DecisionTreeRegressor\n",
    "import matplotlib.pylab as plt\n",
    "from sklearn.svm import SVR\n",
    "from sklearn.decomposition import PCA\n",
    "from sklearn.ensemble import RandomForestRegressor\n",
    "from sklearn.datasets import make_regression\n",
    "\n",
    "% pylab inline\n",
    "\n",
    "from matplotlib.pylab import rcParams\n",
    "rcParams['figure.figsize'] = 10, 8"
   ]
  },
  {
   "cell_type": "markdown",
   "metadata": {},
   "source": [
    "### Create some random data, 100 rows and 9 features"
   ]
  },
  {
   "cell_type": "code",
   "execution_count": 288,
   "metadata": {},
   "outputs": [
    {
     "data": {
      "text/html": [
       "<div>\n",
       "<style>\n",
       "    .dataframe thead tr:only-child th {\n",
       "        text-align: right;\n",
       "    }\n",
       "\n",
       "    .dataframe thead th {\n",
       "        text-align: left;\n",
       "    }\n",
       "\n",
       "    .dataframe tbody tr th {\n",
       "        vertical-align: top;\n",
       "    }\n",
       "</style>\n",
       "<table border=\"1\" class=\"dataframe\">\n",
       "  <thead>\n",
       "    <tr style=\"text-align: right;\">\n",
       "      <th></th>\n",
       "      <th>X0</th>\n",
       "      <th>X1</th>\n",
       "      <th>X2</th>\n",
       "      <th>X3</th>\n",
       "      <th>X4</th>\n",
       "      <th>X5</th>\n",
       "      <th>X6</th>\n",
       "      <th>X7</th>\n",
       "      <th>X8</th>\n",
       "      <th>y</th>\n",
       "    </tr>\n",
       "  </thead>\n",
       "  <tbody>\n",
       "    <tr>\n",
       "      <th>0</th>\n",
       "      <td>4.522854</td>\n",
       "      <td>2.045348</td>\n",
       "      <td>1.440837</td>\n",
       "      <td>3.126799</td>\n",
       "      <td>3.641883</td>\n",
       "      <td>2.972397</td>\n",
       "      <td>4.645319</td>\n",
       "      <td>2.927581</td>\n",
       "      <td>2.754139</td>\n",
       "      <td>37.489801</td>\n",
       "    </tr>\n",
       "    <tr>\n",
       "      <th>1</th>\n",
       "      <td>1.345974</td>\n",
       "      <td>4.078505</td>\n",
       "      <td>1.110142</td>\n",
       "      <td>1.737858</td>\n",
       "      <td>4.004042</td>\n",
       "      <td>3.435397</td>\n",
       "      <td>3.862414</td>\n",
       "      <td>3.189454</td>\n",
       "      <td>1.687312</td>\n",
       "      <td>27.321715</td>\n",
       "    </tr>\n",
       "    <tr>\n",
       "      <th>2</th>\n",
       "      <td>3.568416</td>\n",
       "      <td>2.700973</td>\n",
       "      <td>3.308475</td>\n",
       "      <td>4.515425</td>\n",
       "      <td>1.148865</td>\n",
       "      <td>3.226090</td>\n",
       "      <td>1.140181</td>\n",
       "      <td>2.600468</td>\n",
       "      <td>2.958596</td>\n",
       "      <td>41.730394</td>\n",
       "    </tr>\n",
       "    <tr>\n",
       "      <th>3</th>\n",
       "      <td>1.189639</td>\n",
       "      <td>1.925983</td>\n",
       "      <td>3.582703</td>\n",
       "      <td>3.626483</td>\n",
       "      <td>0.714322</td>\n",
       "      <td>3.519702</td>\n",
       "      <td>2.612872</td>\n",
       "      <td>4.063994</td>\n",
       "      <td>2.488679</td>\n",
       "      <td>34.339194</td>\n",
       "    </tr>\n",
       "    <tr>\n",
       "      <th>4</th>\n",
       "      <td>1.595476</td>\n",
       "      <td>3.389166</td>\n",
       "      <td>3.801380</td>\n",
       "      <td>2.199531</td>\n",
       "      <td>3.780843</td>\n",
       "      <td>0.734267</td>\n",
       "      <td>1.913898</td>\n",
       "      <td>3.485170</td>\n",
       "      <td>3.500746</td>\n",
       "      <td>20.266326</td>\n",
       "    </tr>\n",
       "  </tbody>\n",
       "</table>\n",
       "</div>"
      ],
      "text/plain": [
       "         X0        X1        X2        X3        X4        X5        X6  \\\n",
       "0  4.522854  2.045348  1.440837  3.126799  3.641883  2.972397  4.645319   \n",
       "1  1.345974  4.078505  1.110142  1.737858  4.004042  3.435397  3.862414   \n",
       "2  3.568416  2.700973  3.308475  4.515425  1.148865  3.226090  1.140181   \n",
       "3  1.189639  1.925983  3.582703  3.626483  0.714322  3.519702  2.612872   \n",
       "4  1.595476  3.389166  3.801380  2.199531  3.780843  0.734267  1.913898   \n",
       "\n",
       "         X7        X8          y  \n",
       "0  2.927581  2.754139  37.489801  \n",
       "1  3.189454  1.687312  27.321715  \n",
       "2  2.600468  2.958596  41.730394  \n",
       "3  4.063994  2.488679  34.339194  \n",
       "4  3.485170  3.500746  20.266326  "
      ]
     },
     "execution_count": 288,
     "metadata": {},
     "output_type": "execute_result"
    }
   ],
   "source": [
    "data = np.random.randn(100,10)+3\n",
    "df = pd.DataFrame(data)\n",
    "df.columns = \"X0\",\"X1\",\"X2\",\"X3\",\"X4\",\"X5\",\"X6\",\"X7\",\"X8\",\"y\"\n",
    "df.y = 2*df.X0+0.2*df.X1+3*df.X3+5*df.X5+0.5*df.X8**2   # I made X0, X1, X3 and X8 most meaningful\n",
    "df.head()"
   ]
  },
  {
   "cell_type": "code",
   "execution_count": 289,
   "metadata": {},
   "outputs": [
    {
     "name": "stdout",
     "output_type": "stream",
     "text": [
      "          X0        X1        X2        X3        X4        X5        X6  \\\n",
      "41  2.594245  4.164871  3.070052  4.254778  2.490085  2.954789  4.009757   \n",
      "20  3.468418  3.210328  4.427217  3.211907  4.940996  3.935630  4.159727   \n",
      "84  1.780886  3.662821  3.228878  2.836884  1.676140  1.726799  3.311522   \n",
      "37  4.028937  2.309471  2.304820  2.652370  2.326325  2.879981  3.590989   \n",
      "88  4.641710  2.944917  2.952824  4.260097  1.829997  5.444925  2.589933   \n",
      "\n",
      "          X7        X8  \n",
      "41  0.277122  2.116178  \n",
      "20  3.742775  3.024824  \n",
      "84  3.104939  4.232396  \n",
      "37  2.984608  3.214145  \n",
      "88  3.077459  1.867081  \n"
     ]
    }
   ],
   "source": [
    "# make NP arrays of the X and y values\n",
    "\n",
    "X = df.iloc[:,:-1]\n",
    "y = df.iloc[:,-1]\n",
    "\n",
    "# split data into 70% train, 30% test\n",
    "\n",
    "X_train,X_test,y_train,y_test=train_test_split(X, y, test_size=0.3, random_state=999)\n",
    "print(X_train.head())"
   ]
  },
  {
   "cell_type": "markdown",
   "metadata": {},
   "source": [
    "#### Practice on training models with SKL"
   ]
  },
  {
   "cell_type": "code",
   "execution_count": 294,
   "metadata": {},
   "outputs": [
    {
     "name": "stdout",
     "output_type": "stream",
     "text": [
      "Linear regression (R2):  0.982339592538\n",
      "Ridge regression (R2):  0.982147910318\n"
     ]
    }
   ],
   "source": [
    "# Train models\n",
    "\n",
    "lr = LinearRegression().fit(X_train, y_train)\n",
    "ridge = Ridge().fit(X_train, y_train)\n",
    "rf = RandomForestRegressor().fit(X_train,y_train)\n",
    "svr = SVR(C=1.0, epsilon=0.2).fit(X_train, y_train)\n",
    "\n",
    "# Find the R2 of the linear and ridge models\n",
    "# Using mean of 10 train-test splits\n",
    "# Ridge has arbitrary alpha parameter of 1\n",
    "\n",
    "OS_lr=[]\n",
    "for i in range(10):\n",
    "    X_train, X_test, y_train, y_test = train_test_split(X, y, test_size = 0.4, random_state = i)    \n",
    "    lr=LinearRegression().fit(X_train,y_train)\n",
    "    OS_lr.append(lr.score(X_test,y_test))\n",
    "print(\"Linear regression (R2): \",np.mean(OS_lr))\n",
    "\n",
    "# Ridge model, 10 random train-test splits: out-of-sample R2\n",
    "\n",
    "OS_ridge=[]\n",
    "for i in range(10):\n",
    "    X_train, X_test, y_train, y_test = train_test_split(X, y, test_size = 0.4, random_state = i)    \n",
    "    ridge=Ridge(alpha=1).fit(X_train,y_train)\n",
    "    OS_ridge.append(ridge.score(X_test,y_test))\n",
    "print(\"Ridge regression (R2): \",np.mean(OS_ridge))\n"
   ]
  },
  {
   "cell_type": "code",
   "execution_count": 293,
   "metadata": {},
   "outputs": [
    {
     "name": "stdout",
     "output_type": "stream",
     "text": [
      "{'alpha': 0.0001}\n",
      "{'alpha': 0.0001}\n",
      "{'alpha': 0.0001}\n",
      "{'alpha': 0.0001}\n",
      "{'alpha': 0.31440354715915003}\n",
      "{'alpha': 0.13049019780144031}\n",
      "{'alpha': 0.69055135201623308}\n",
      "{'alpha': 0.0001}\n",
      "{'alpha': 0.2612675225563329}\n",
      "{'alpha': 0.098849590466255868}\n",
      "0.982835397688\n",
      "Yes\n"
     ]
    }
   ],
   "source": [
    "# Grid search to tune the parameter for ridge.\n",
    "# Does it perform better?\n",
    "\n",
    "from sklearn.model_selection import GridSearchCV\n",
    "param_grid ={'alpha':np.logspace(-4, 0, 200)}\n",
    "\n",
    "OS_ridge=[]\n",
    "for i in range(10):\n",
    "    X_train, X_test, y_train, y_test = train_test_split(X, y, test_size = 0.4, random_state = i)\n",
    "    rid=Ridge()\n",
    "    gr=GridSearchCV(rid,param_grid=param_grid)\n",
    "    rs=gr.fit(X_train,y_train)\n",
    "    print(rs.best_params_)\n",
    "    OS_ridge.append(1-((rs.predict(X_test)-y_test)**2).mean()/y_test.var())\n",
    "print(np.mean(OS_ridge))\n",
    "print(\"Yes\")"
   ]
  },
  {
   "cell_type": "markdown",
   "metadata": {},
   "source": [
    "### Plot predicted values from the Linear Regression (vs. the actual values)"
   ]
  },
  {
   "cell_type": "code",
   "execution_count": 299,
   "metadata": {},
   "outputs": [
    {
     "name": "stdout",
     "output_type": "stream",
     "text": [
      "Predicted:  [ 27.43580294  28.1236736   36.79627828  26.67556187  35.15356323\n",
      "  39.68533868  41.17408691  41.82327545  37.41810312  38.53818169] \n",
      "\n",
      "Actual:  [ 27.22109109  28.26076446  36.76560575  25.85583851  34.33919385\n",
      "  38.88242782  40.30294013  41.46755249  36.57975692  38.24903328]\n"
     ]
    },
    {
     "data": {
      "image/png": "[encoded data removed]",
      "text/plain": [
       "<matplotlib.figure.Figure at 0x118c1af28>"
      ]
     },
     "metadata": {},
     "output_type": "display_data"
    }
   ],
   "source": [
    "# Generate predicted Ys for lr and ridge.\n",
    "\n",
    "# Fit the model\n",
    "X_train, X_test, y_train, y_test = train_test_split(X, y, test_size = 0.4, random_state = i)    \n",
    "lr=LinearRegression().fit(X_train,y_train)\n",
    "\n",
    "# Predict values for the test set\n",
    "y_pred = lr.predict(X_test)\n",
    "\n",
    "# Print out the predicted vs. actual values\n",
    "print(\"Predicted: \",y_pred[:10],\"\\n\")\n",
    "print(\"Actual: \",np.asarray(y_test)[:10])\n",
    "\n",
    "# Bar chart with pred vs actual\n",
    "x_axis = np.arange(len(y_pred))\n",
    "\n",
    "barWidth = 0.3\n",
    "\n",
    "plt.scatter(x_axis, y_pred,color='b',label = 'predicted')\n",
    "plt.scatter(x_axis, y_test, color='g',label = 'actual')\n",
    "plt.legend()\n",
    "plt.xlabel('area of city')\n",
    "plt.ylabel('accident value')\n",
    "plt.suptitle('Accident projections by area')\n",
    "plt.show()\n"
   ]
  },
  {
   "cell_type": "markdown",
   "metadata": {},
   "source": [
    "### Code for PCA for feature selection\n",
    "\n",
    "This is helpful when you have large number of features and want to find the ones that explain the largest share of variance. For example when doing OLS."
   ]
  },
  {
   "cell_type": "code",
   "execution_count": 234,
   "metadata": {},
   "outputs": [
    {
     "name": "stdout",
     "output_type": "stream",
     "text": [
      "[ 0.16868476  0.14790781  0.1365724   0.1261309   0.10354715  0.09747381\n",
      "  0.08069734  0.07608951  0.06289632]\n"
     ]
    },
    {
     "data": {
      "image/png": "[encoded data removed]",
      "text/plain": [
       "<matplotlib.figure.Figure at 0x116958c18>"
      ]
     },
     "metadata": {},
     "output_type": "display_data"
    }
   ],
   "source": [
    "## PCA for feature selection on my sample data\n",
    "\n",
    "n=9 # number of attributes\n",
    "pca = PCA(n)\n",
    "P = pca.fit_transform(X)\n",
    "eigenvalues = pca.explained_variance_ratio_\n",
    "\n",
    "# print the explained variance for the most helpful attributes\n",
    "print(eigenvalues)\n",
    "\n",
    "# Plot explained variance for the the attributes in rank order\n",
    "plt.plot(np.arange(n), eigenvalues, 'o')\n",
    "plt.xlabel(\"Dimensionality\")\n",
    "plt.ylabel(\"Explained Variance Ratio\")\n",
    "plt.show()"
   ]
  },
  {
   "cell_type": "markdown",
   "metadata": {},
   "source": [
    "### Linear regression and SVMs\n",
    "- Build (i) OLS; (ii) SVR gaussian; (iii) SVR linear.\n",
    "- Print their R2\n",
    "- Plot the predicted values vs. actual values for each grid area"
   ]
  },
  {
   "cell_type": "code",
   "execution_count": 283,
   "metadata": {},
   "outputs": [
    {
     "name": "stdout",
     "output_type": "stream",
     "text": [
      "OLS out of sample r2: 0.89\n",
      "SVM gaussian out of sample r2: 0.82\n",
      "SVM linear out of sample r2: 0.89\n"
     ]
    },
    {
     "data": {
      "image/png": "[encoded data removed]",
      "text/plain": [
       "<matplotlib.figure.Figure at 0x118b51080>"
      ]
     },
     "metadata": {},
     "output_type": "display_data"
    }
   ],
   "source": [
    "# Create models: an OLS and two SVMs (gaussian and linear kernels)\n",
    "\n",
    "ols = LinearRegression()\n",
    "svr_rbf = SVR(kernel=\"rbf\",C=1e3, gamma=0.1)\n",
    "svr_lin = SVR(kernel='linear', C=1e3)\n",
    "\n",
    "# Fit to training data and predict test values\n",
    "y_ols = ols.fit(X_train, y_train)\n",
    "y_rbf = svr_rbf.fit(X_train, y_train).predict(X_test)\n",
    "y_lin = svr_lin.fit(X_train, y_train).predict(X_test)\n",
    "\n",
    "# Print r2 scores\n",
    "print(\"OLS out of sample r2: {:.2f}\".format(y_ols.score(X_test,y_test)))\n",
    "print(\"SVM gaussian out of sample r2: {:.2f}\".format(svr_rbf.score(X_test,y_test)))\n",
    "print(\"SVM linear out of sample r2: {:.2f}\".format(svr_lin.score(X_test,y_test)))\n",
    "\n",
    "# x-axis is length of predictions\n",
    "\n",
    "x_axis = np.arange(len(y_test))\n",
    "\n",
    "# Plot\n",
    "\n",
    "plt.scatter(x_axis, y_test, color='darkorange', label='data')\n",
    "plt.scatter(x_axis, y_rbf, color='navy', marker = 'x',label='RBF model')\n",
    "plt.scatter(x_axis, y_lin, color='c', marker = '>',label='Linear model')\n",
    "\n",
    "plt.legend()\n",
    "plt.show()\n"
   ]
  },
  {
   "cell_type": "markdown",
   "metadata": {},
   "source": [
    "### Model options\n",
    "#### 1. Linear regression (OLS, ridge, lasso)\n",
    "\n",
    "\"Ridge and Lasso regression are powerful techniques generally used for creating parsimonious models in presence of a ‘large’ number of features.\"\n",
    "\n",
    "_Parameters_:\n",
    " - ridge: Objective = RSS + α * (sum of square of coefficients)\n",
    " - lasso: Objective = RSS + α * (sum of absolute value of coefficients)\n",
    " \n",
    "So we need the optimal alpha for either of these.\n",
    "\n",
    "#### 2. SVM regression\n",
    " - linear kernel\n",
    " - RBF (gaussian) kernel\n",
    " \n",
    "Parameters:\n",
    " - linear needs C (term to penalize observations across the boundary lines)\n",
    " - RBF needs C and gamma. (\"If gamma is large, then variance is small implying the support vector does not have wide-spread influence. Technically speaking, large gamma leads to high bias and low variance models, and vice-versa.\")\n",
    " \n",
    "#### 3. Ensemble tree methods\n",
    "\n",
    "3.1: Random forest\n",
    "Parameters\n",
    " - number of trees\n",
    " - max depth\n",
    "\n",
    "Advantage: visualize feature importance in the tree structure\n",
    "\n",
    "3.2 Gradient boosted trees regression\n",
    " - min child weight (ie. minimum observations for a new leaf)\n",
    " - max iterations (keep it as high as your computation budget allows)\n",
    " - max depth\n",
    "\n",
    "Similar to random forest but the trees learn off each other rather than being constructed independently."
   ]
  },
  {
   "cell_type": "markdown",
   "metadata": {},
   "source": [
    "### Build a random forest regressor"
   ]
  },
  {
   "cell_type": "code",
   "execution_count": 320,
   "metadata": {},
   "outputs": [
    {
     "data": {
      "text/plain": [
       "0.61711950409660887"
      ]
     },
     "execution_count": 320,
     "metadata": {},
     "output_type": "execute_result"
    }
   ],
   "source": [
    "# New random dataset (more features) and train-test split\n",
    "#Xa, ya = make_regression(n_features=30, n_informative=5,\n",
    "#                       random_state=0, shuffle=False)\n",
    "#Xa_train, Xa_test, ya_train, ya_test = train_test_split(X, y, test_size = 0.4, random_state = i) \n",
    "\n",
    "# Fit a random forest to the sample data\n",
    "\n",
    "rf = RandomForestRegressor(max_depth=4, random_state=0)\n",
    "rf.fit(X_train, y_train)\n",
    "y_rf = rf.fit(X_train, y_train).predict(X_test)\n",
    "\n",
    "# Print the R2\n",
    "rf.score(X_test,y_test)\n"
   ]
  },
  {
   "cell_type": "markdown",
   "metadata": {},
   "source": [
    "--> not great. Less good than standard OLS. Does a larger number of trees make it better?"
   ]
  },
  {
   "cell_type": "markdown",
   "metadata": {},
   "source": [
    "#### Build random forest regressors with between 1 and 50 trees. See how the R2 changes."
   ]
  },
  {
   "cell_type": "code",
   "execution_count": 330,
   "metadata": {},
   "outputs": [
    {
     "name": "stdout",
     "output_type": "stream",
     "text": [
      "[0.038464028993126953, 0.61542774748990681, 0.73540304121615818, 0.65558989589986671, 0.67310351028558113, 0.65562254017895905, 0.63179494986645379, 0.65105811583087458, 0.67234447751982329, 0.64401108488724723]\n"
     ]
    }
   ],
   "source": [
    "R2=[]\n",
    "for i in range(1,51,5):\n",
    "    rf = RandomForestRegressor(n_estimators=i, n_jobs=-1,max_leaf_nodes=10)\n",
    "    rf.fit(X_train, y_train)\n",
    "    pred=rf.predict(X_test)\n",
    "    R2.append(rf.score(X_test,y_test))\n",
    "print(R2)"
   ]
  },
  {
   "cell_type": "code",
   "execution_count": 331,
   "metadata": {},
   "outputs": [
    {
     "data": {
      "image/png": "[encoded data removed]",
      "text/plain": [
       "<matplotlib.figure.Figure at 0x116eb1198>"
      ]
     },
     "metadata": {},
     "output_type": "display_data"
    }
   ],
   "source": [
    "plt.figure(figsize=(7,5))\n",
    "plt.plot(range(1,51,5),R2)\n",
    "plt.xlabel(\"Number of trees in forest\")\n",
    "plt.ylabel(\"R2\")\n",
    "plt.title(\"R2 vs num_estimators\")\n",
    "plt.xlim(1,51)\n",
    "plt.show()"
   ]
  },
  {
   "cell_type": "markdown",
   "metadata": {},
   "source": [
    "### Optimize number of estimators through GridSearchCV"
   ]
  },
  {
   "cell_type": "code",
   "execution_count": 334,
   "metadata": {},
   "outputs": [
    {
     "name": "stdout",
     "output_type": "stream",
     "text": [
      "{'n_estimators': 26}\n"
     ]
    }
   ],
   "source": [
    "param_grid = {'n_estimators':range(1,51,5)}\n",
    "rf = RandomForestRegressor(n_jobs=-1,max_leaf_nodes=10)\n",
    "gs = GridSearchCV(rf,param_grid=param_grid,scoring='r2')\n",
    "rs = gs.fit(X_train,y_train)\n",
    "pred=rs.predict(X_test)\n",
    "print(rs.best_params_)\n",
    "#printroc_auc_score(np.array(y_test),pred)"
   ]
  },
  {
   "cell_type": "code",
   "execution_count": 335,
   "metadata": {},
   "outputs": [
    {
     "name": "stdout",
     "output_type": "stream",
     "text": [
      "{'max_depth': 9}\n"
     ]
    }
   ],
   "source": [
    "param_grid = {'max_depth':range(1,10)}\n",
    "rf = RandomForestRegressor(n_jobs=-1,n_estimators=26)\n",
    "gs = GridSearchCV(rf,param_grid=param_grid,scoring='r2')\n",
    "rs = gs.fit(X_train,y_train)\n",
    "pred=rs.predict(X_test)\n",
    "print(rs.best_params_)\n",
    "#printroc_auc_score(np.array(y_test),pred)"
   ]
  },
  {
   "cell_type": "code",
   "execution_count": null,
   "metadata": {
    "collapsed": true
   },
   "outputs": [],
   "source": []
  }
 ],
 "metadata": {
  "kernelspec": {
   "display_name": "Python 3",
   "language": "python",
   "name": "python3"
  },
  "language_info": {
   "codemirror_mode": {
    "name": "ipython",
    "version": 3
   },
   "file_extension": ".py",
   "mimetype": "text/x-python",
   "name": "python",
   "nbconvert_exporter": "python",
   "pygments_lexer": "ipython3",
   "version": "3.6.3"
  }
 },
 "nbformat": 4,
 "nbformat_minor": 2
}
